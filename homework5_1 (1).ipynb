{
 "cells": [
  {
   "cell_type": "code",
   "execution_count": 46,
   "id": "14ef97d6-7cce-40b0-93ad-b1c6456325f8",
   "metadata": {},
   "outputs": [],
   "source": [
    "import pandas as pd\n",
    "import numpy as np\n",
    "from sklearn.metrics.pairwise import cosine_similarity\n",
    "from scipy.spatial.distance import cosine"
   ]
  },
  {
   "cell_type": "markdown",
   "id": "d43f438e-89cd-4390-9d34-88567cea5734",
   "metadata": {},
   "source": [
    "1"
   ]
  },
  {
   "cell_type": "code",
   "execution_count": 29,
   "id": "91a6f78a-c0fa-4ca3-b4c2-0905fdac1200",
   "metadata": {},
   "outputs": [],
   "source": [
    "# 加载 ratings 数据\n",
    "ratings = pd.read_csv(r'C:\\Users\\lenovo\\Desktop\\学到发疯\\数据挖掘作业\\ml-100k\\u.data', \n",
    "                      sep='\\t', \n",
    "                      names=['user_id', 'item_id', 'rating', 'timestamp'])"
   ]
  },
  {
   "cell_type": "code",
   "execution_count": 30,
   "id": "66cf0fad-aa1e-43f8-879e-993acfc3448a",
   "metadata": {},
   "outputs": [],
   "source": [
    "#创建用户物品评分矩阵\n",
    "utility_matrix=ratings.pivot_table(index='user_id',columns='item_id',values='rating')"
   ]
  },
  {
   "cell_type": "code",
   "execution_count": 31,
   "id": "2f458b36-3ad9-43ee-ae25-ff0b979eaf93",
   "metadata": {},
   "outputs": [],
   "source": [
    "#平均评分\n",
    "user_means = utility_matrix.mean(axis=1)"
   ]
  },
  {
   "cell_type": "code",
   "execution_count": 32,
   "id": "b41e1262-467c-4c5b-9b1d-e5a169eb92e2",
   "metadata": {},
   "outputs": [],
   "source": [
    "#中心化评分（每个评分减去该用户的平均值）\n",
    "centered_matrix = utility_matrix.sub(user_means, axis=0)"
   ]
  },
  {
   "cell_type": "code",
   "execution_count": 33,
   "id": "25bf3efa-b7f3-4a2e-8d69-33cbd0e917bc",
   "metadata": {},
   "outputs": [],
   "source": [
    "# === 寻找与用户1最相似的10个用户 ===\n",
    "#从用户-物品中心化矩阵中取出用户1的评分向量。\n",
    "#相似度计算后将保存在 similarities 列表中，格式为 (用户编号, 相似度)。\n",
    "user1_id=1\n",
    "user1=centered_matrix.loc[user1_id] # 获取用户1的中心化评分向量\n",
    "similarities = []  # 用于保存所有用户与用户1的相似度"
   ]
  },
  {
   "cell_type": "code",
   "execution_count": 34,
   "id": "0282a6b2-cd83-4696-9a2d-db008711be11",
   "metadata": {},
   "outputs": [],
   "source": [
    "#对每个其他用户计算与用户1的相似度：\n",
    "for user in centered_matrix.index:\n",
    "    if user == user1_id:\n",
    "        continue  # 跳过用户1自己\n",
    "\n",
    "    user_centered = centered_matrix.loc[user]  # 获取当前用户的中心化评分向量\n",
    "    common_items = user1.notna() & user_centered.notna()  # 两个用户都评分的电影\n",
    "#计算余弦相似度\n",
    "    if common_items.any():\n",
    "        u1 = user1[common_items].values.astype(float)\n",
    "        u = user_centered[common_items].values.astype(float)\n",
    "        dot_product = np.dot(u1, u)\n",
    "        norm_u1 = np.linalg.norm(u1)\n",
    "        norm_u = np.linalg.norm(u)\n",
    "        cosine = dot_product / (norm_u1 * norm_u) if norm_u1 * norm_u != 0 else 0.0\n",
    "    else:\n",
    "        cosine = 0.0\n",
    "    similarities.append((user, cosine))"
   ]
  },
  {
   "cell_type": "code",
   "execution_count": 35,
   "id": "65de5801-5870-49fc-9179-3a0eb39ddef3",
   "metadata": {},
   "outputs": [
    {
     "name": "stdout",
     "output_type": "stream",
     "text": [
      "\n",
      "The 10 most similar users to user 1 are: [418, 155, 341, 685, 812, 351, 811, 166, 810, 309]\n"
     ]
    }
   ],
   "source": [
    "#获取最相似的10个用户：\n",
    "top10_users = sorted(similarities, key=lambda x: x[1], reverse=True)[:10]\n",
    "print(f\"\\nThe 10 most similar users to user 1 are: {[u for u, _ in top10_users]}\")\n"
   ]
  },
  {
   "cell_type": "code",
   "execution_count": 36,
   "id": "92764615-66e9-4f37-afd6-a23283948ca3",
   "metadata": {},
   "outputs": [
    {
     "name": "stdout",
     "output_type": "stream",
     "text": [
      "\n",
      "The predicted rating for user 1 on item 508 is: 3.61\n"
     ]
    }
   ],
   "source": [
    "# === 预测用户1对电影508的评分 ===\n",
    "item_id = 508\n",
    "numerator = 0.0\n",
    "denominator = 0.0\n",
    "\n",
    "for (user, sim) in top10_users:\n",
    "    if np.isnan(utility_matrix.loc[user, item_id]):  # 跳过未评分的用户\n",
    "        continue\n",
    "    rating_centered = centered_matrix.loc[user, item_id]\n",
    "    numerator += sim * rating_centered\n",
    "    denominator += sim\n",
    "\n",
    "predicted_centered = numerator / denominator if denominator != 0 else 0\n",
    "predicted_rating = user_means[user1_id] + predicted_centered\n",
    "\n",
    "print(f\"\\nThe predicted rating for user {user1_id} on item {item_id} is: {predicted_rating:.2f}\")"
   ]
  },
  {
   "cell_type": "markdown",
   "id": "41b1acbd-b535-4b0b-a416-9dd533b50de9",
   "metadata": {},
   "source": [
    "2"
   ]
  },
  {
   "cell_type": "code",
   "execution_count": null,
   "id": "9f4183f8-510e-4b28-80e8-7cfc9b86ebb2",
   "metadata": {},
   "outputs": [],
   "source": []
  }
 ],
 "metadata": {
  "kernelspec": {
   "display_name": "Python 3 (ipykernel)",
   "language": "python",
   "name": "python3"
  },
  "language_info": {
   "codemirror_mode": {
    "name": "ipython",
    "version": 3
   },
   "file_extension": ".py",
   "mimetype": "text/x-python",
   "name": "python",
   "nbconvert_exporter": "python",
   "pygments_lexer": "ipython3",
   "version": "3.13.3"
  }
 },
 "nbformat": 4,
 "nbformat_minor": 5
}

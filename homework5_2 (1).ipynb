{
 "cells": [
  {
   "cell_type": "code",
   "execution_count": 21,
   "id": "e7b8ad03-d9ce-4118-9749-13bd5a64e0b7",
   "metadata": {},
   "outputs": [],
   "source": [
    "import pandas as pd\n",
    "import numpy as np"
   ]
  },
  {
   "cell_type": "code",
   "execution_count": 22,
   "id": "cc36f1b8-4c2a-449c-a818-30375df861f6",
   "metadata": {},
   "outputs": [],
   "source": [
    "# Step 1: Load the dataset\n",
    "column_names = ['user_id', 'item_id', 'rating', 'timestamp']\n",
    "# Make sure the path is correct. Adjust if needed.\n",
    "df = pd.read_csv(r'C:\\Users\\lenovo\\Desktop\\学到发疯\\数据挖掘作业\\ml-100k\\u.data', \n",
    "                 sep='\\t', \n",
    "                 names=column_names)"
   ]
  },
  {
   "cell_type": "code",
   "execution_count": 23,
   "id": "74115603-9e6d-40cc-94ed-6cb8668c5f57",
   "metadata": {},
   "outputs": [],
   "source": [
    "# Step 2: Create a utility matrix (user-item rating matrix)\n",
    "utility = df.pivot(index='user_id', columns='item_id', values='rating')"
   ]
  },
  {
   "cell_type": "code",
   "execution_count": 24,
   "id": "89c81e83-91f5-458b-b7f2-bbef75408a56",
   "metadata": {},
   "outputs": [],
   "source": [
    "# Step 3: Get user mean ratings and center the data\n",
    "user_means = utility.mean(axis=1)\n",
    "centered = utility.sub(user_means, axis=0)"
   ]
  },
  {
   "cell_type": "code",
   "execution_count": 25,
   "id": "54018e84-ffec-4d33-bcc3-09ee46ad6aab",
   "metadata": {},
   "outputs": [],
   "source": [
    "# Step 4: Extract centered rating vectors for users 200 and 15\n",
    "user_200 = centered.loc[200]\n",
    "user_15 = centered.loc[15]"
   ]
  },
  {
   "cell_type": "code",
   "execution_count": 26,
   "id": "de8989c7-7f13-4f58-a127-919bcb54c79f",
   "metadata": {},
   "outputs": [],
   "source": [
    "# Step 5: Extract centered ratings for movie 95\n",
    "item_95 = centered[95]"
   ]
  },
  {
   "cell_type": "code",
   "execution_count": 27,
   "id": "350612aa-853a-4898-af93-07402479052e",
   "metadata": {},
   "outputs": [],
   "source": [
    "# Step 6: Define cosine similarity and Euclidean distance functions\n",
    "def cosine_sim(u, v):\n",
    "    mask = u.notna() & v.notna()\n",
    "    if mask.sum() == 0:\n",
    "        return 0  # No overlapping ratings\n",
    "    u_vec, v_vec = u[mask], v[mask]\n",
    "    return np.dot(u_vec, v_vec) / (np.linalg.norm(u_vec) * np.linalg.norm(v_vec))\n",
    "\n",
    "def euclidean_dist(u, v):\n",
    "    mask = u.notna() & v.notna()\n",
    "    if mask.sum() == 0:\n",
    "        return np.inf  # No overlap\n",
    "    return np.linalg.norm(u[mask] - v[mask])"
   ]
  },
  {
   "cell_type": "code",
   "execution_count": 28,
   "id": "130e090e-5bc7-4c82-bfc5-aafb3676f436",
   "metadata": {},
   "outputs": [],
   "source": [
    "# Step 7: Compute similarity and distance\n",
    "cos_sim_200 = cosine_sim(user_200, item_95)\n",
    "cos_sim_15 = cosine_sim(user_15, item_95)\n",
    "euc_dist_200 = euclidean_dist(user_200, item_95)\n",
    "euc_dist_15 = euclidean_dist(user_15, item_95)"
   ]
  },
  {
   "cell_type": "code",
   "execution_count": 29,
   "id": "44a0061c-3bb7-4922-80e8-c9274552bf01",
   "metadata": {},
   "outputs": [
    {
     "name": "stdout",
     "output_type": "stream",
     "text": [
      "\n",
      "=== Results for Problem 2 ===\n",
      "User 200 - Cosine Similarity with Movie 95: 0.0890, Euclidean Distance: 6.9553\n",
      "User  15 - Cosine Similarity with Movie 95: 0.1305, Euclidean Distance: 7.8602\n"
     ]
    }
   ],
   "source": [
    "# Step 8: Display results\n",
    "print(\"\\n=== Results for Problem 2 ===\")\n",
    "print(f\"User 200 - Cosine Similarity with Movie 95: {cos_sim_200:.4f}, Euclidean Distance: {euc_dist_200:.4f}\")\n",
    "print(f\"User  15 - Cosine Similarity with Movie 95: {cos_sim_15:.4f}, Euclidean Distance: {euc_dist_15:.4f}\")"
   ]
  },
  {
   "cell_type": "code",
   "execution_count": 30,
   "id": "c486397f-6917-43b1-ad8b-cdbf0ef3e476",
   "metadata": {},
   "outputs": [
    {
     "name": "stdout",
     "output_type": "stream",
     "text": [
      "\n",
      " The recommender system would more likely suggest movie 95 to User 15.\n"
     ]
    }
   ],
   "source": [
    "# Step 9: Recommendation decision\n",
    "if cos_sim_200 > cos_sim_15:\n",
    "    print(\"\\n The recommender system would more likely suggest movie 95 to User 200.\")\n",
    "else:\n",
    "    print(\"\\n The recommender system would more likely suggest movie 95 to User 15.\")"
   ]
  }
 ],
 "metadata": {
  "kernelspec": {
   "display_name": "Python 3 (ipykernel)",
   "language": "python",
   "name": "python3"
  },
  "language_info": {
   "codemirror_mode": {
    "name": "ipython",
    "version": 3
   },
   "file_extension": ".py",
   "mimetype": "text/x-python",
   "name": "python",
   "nbconvert_exporter": "python",
   "pygments_lexer": "ipython3",
   "version": "3.13.3"
  }
 },
 "nbformat": 4,
 "nbformat_minor": 5
}
